{
 "cells": [
  {
   "cell_type": "code",
   "execution_count": null,
   "id": "8c80588b",
   "metadata": {},
   "outputs": [],
   "source": [
    "import pandas as pd\n",
    "import os as os"
   ]
  },
  {
   "cell_type": "code",
   "execution_count": 24,
   "id": "057886e6",
   "metadata": {},
   "outputs": [
    {
     "name": "stdout",
     "output_type": "stream",
     "text": [
      "Dataset berhasil dibaca!\n"
     ]
    }
   ],
   "source": [
    "try:\n",
    "    df = pd.read_csv(\"student_depression_dataset.csv\")\n",
    "    print(\"Dataset berhasil dibaca!\")\n",
    "except FileNotFoundError:\n",
    "    print(\"File tidak ditemukan!\")\n",
    "    df = None"
   ]
  },
  {
   "cell_type": "code",
   "execution_count": 25,
   "id": "5c6c0e5b",
   "metadata": {},
   "outputs": [],
   "source": [
    "df = df.drop([\n",
    "    'City', 'Profession', 'Work Pressure', 'Job Satisfaction', 'Dietary Habits',\n",
    "    'Degree', 'Family History of Mental Illness', 'Depression'], axis=1)\n"
   ]
  },
  {
   "cell_type": "code",
   "execution_count": 26,
   "id": "45124161",
   "metadata": {},
   "outputs": [],
   "source": [
    "df.to_csv('temp.csv', index=False)\n",
    "os.replace('temp.csv', 'CleanedDataset.csv')\n"
   ]
  }
 ],
 "metadata": {
  "kernelspec": {
   "display_name": "Python 3",
   "language": "python",
   "name": "python3"
  },
  "language_info": {
   "codemirror_mode": {
    "name": "ipython",
    "version": 3
   },
   "file_extension": ".py",
   "mimetype": "text/x-python",
   "name": "python",
   "nbconvert_exporter": "python",
   "pygments_lexer": "ipython3",
   "version": "3.13.2"
  }
 },
 "nbformat": 4,
 "nbformat_minor": 5
}
